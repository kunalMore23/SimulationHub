{
 "cells": [
  {
   "cell_type": "code",
   "execution_count": 2,
   "id": "26f375f2-a1e1-4545-a1a7-4a6234d1f015",
   "metadata": {
    "scrolled": true
   },
   "outputs": [
    {
     "name": "stdout",
     "output_type": "stream",
     "text": [
      "Hello World\n",
      "2\n"
     ]
    }
   ],
   "source": [
    "age = 2\n",
    "print(\"Hello World\")\n",
    "print(age)"
   ]
  },
  {
   "cell_type": "code",
   "execution_count": 33,
   "id": "3ad49aff-357f-4cd8-b4b9-f7339e95afbb",
   "metadata": {},
   "outputs": [
    {
     "name": "stdout",
     "output_type": "stream",
     "text": [
      "Some name\n",
      "0\n",
      "True\n"
     ]
    }
   ],
   "source": [
    "class Patient:\n",
    "    def __init__(self, name = \"Some name\", age = 0, isnew = False) :\n",
    "        self.name = name\n",
    "        self.age = age\n",
    "        self.isnew = isnew\n",
    "\n",
    "# main\n",
    "x = True\n",
    "john = Patient(isnew = x)\n",
    "print(john.name)\n",
    "print(john.age)\n",
    "print(john.isnew)"
   ]
  },
  {
   "cell_type": "code",
   "execution_count": 3,
   "id": "cb61c8f1-5c05-4645-b6b8-e74787941bcd",
   "metadata": {},
   "outputs": [
    {
     "name": "stdout",
     "output_type": "stream",
     "text": [
      "True\n"
     ]
    }
   ],
   "source": [
    "my_str = \"Kunal0More\"\n",
    "print(my_str.isalnum())"
   ]
  },
  {
   "cell_type": "code",
   "execution_count": 4,
   "id": "e3550d4a-c4c9-49ba-896b-f51896a171e0",
   "metadata": {},
   "outputs": [
    {
     "name": "stdout",
     "output_type": "stream",
     "text": [
      "Requirement already satisfied: Pyforest in c:\\python312\\lib\\site-packages (1.1.0)\n"
     ]
    }
   ],
   "source": [
    "#this is all imported libraries\n",
    "!pip install Pyforest"
   ]
  },
  {
   "cell_type": "code",
   "execution_count": 6,
   "id": "701c01bc-4572-4ae6-8728-96820ecf02b4",
   "metadata": {},
   "outputs": [
    {
     "ename": "NameError",
     "evalue": "name 'pd' is not defined",
     "output_type": "error",
     "traceback": [
      "\u001b[1;31m----------------------------------------------------------------------\u001b[0m",
      "\u001b[1;31mNameError\u001b[0m                            Traceback (most recent call last)",
      "Cell \u001b[1;32mIn[6], line 1\u001b[0m\n\u001b[1;32m----> 1\u001b[0m df \u001b[38;5;241m=\u001b[39m \u001b[43mpd\u001b[49m\u001b[38;5;241m.\u001b[39mread_csv(\u001b[38;5;124m\"\u001b[39m\u001b[38;5;124mhttp://winterolympicmedals.com/medals.csv\u001b[39m\u001b[38;5;124m\"\u001b[39m)\n\u001b[0;32m      2\u001b[0m \u001b[38;5;66;03m# df.head()\u001b[39;00m\n",
      "\u001b[1;31mNameError\u001b[0m: name 'pd' is not defined"
     ]
    }
   ],
   "source": [
    "df = pd.read_csv(\"http://winterolympicmedals.com/medals.csv\")\n",
    "# df.head()"
   ]
  },
  {
   "cell_type": "code",
   "execution_count": 7,
   "id": "5956a427-311c-4be7-bde3-4cb74efb09a6",
   "metadata": {},
   "outputs": [
    {
     "ename": "NameError",
     "evalue": "name 'active_imports' is not defined",
     "output_type": "error",
     "traceback": [
      "\u001b[1;31m----------------------------------------------------------------------\u001b[0m",
      "\u001b[1;31mNameError\u001b[0m                            Traceback (most recent call last)",
      "Cell \u001b[1;32mIn[7], line 1\u001b[0m\n\u001b[1;32m----> 1\u001b[0m \u001b[43mactive_imports\u001b[49m()\n",
      "\u001b[1;31mNameError\u001b[0m: name 'active_imports' is not defined"
     ]
    }
   ],
   "source": [
    "active_imports()"
   ]
  },
  {
   "cell_type": "code",
   "execution_count": 8,
   "id": "881defc5-0204-4f5c-a931-45f324b404d6",
   "metadata": {},
   "outputs": [],
   "source": [
    "lst1 = [1, 2, 3, 4, 5]\n",
    "lst2 = [1, 2, 3, 4, 5]"
   ]
  },
  {
   "cell_type": "code",
   "execution_count": null,
   "id": "e2c64f6e-ad3f-4eb8-b080-24239142cb35",
   "metadata": {},
   "outputs": [],
   "source": [
    "plt.plot(lst1, lst2)\n",
    "plt."
   ]
  }
 ],
 "metadata": {
  "kernelspec": {
   "display_name": "Python 3 (ipykernel)",
   "language": "python",
   "name": "python3"
  },
  "language_info": {
   "codemirror_mode": {
    "name": "ipython",
    "version": 3
   },
   "file_extension": ".py",
   "mimetype": "text/x-python",
   "name": "python",
   "nbconvert_exporter": "python",
   "pygments_lexer": "ipython3",
   "version": "3.12.1"
  }
 },
 "nbformat": 4,
 "nbformat_minor": 5
}
